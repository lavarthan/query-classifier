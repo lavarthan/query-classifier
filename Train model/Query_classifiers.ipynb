{
  "nbformat": 4,
  "nbformat_minor": 0,
  "metadata": {
    "colab": {
      "name": "Query classifiers",
      "provenance": []
    },
    "kernelspec": {
      "name": "python3",
      "display_name": "Python 3"
    },
    "language_info": {
      "name": "python"
    }
  },
  "cells": [
    {
      "cell_type": "markdown",
      "metadata": {
        "id": "OO9CKXBvG9qb"
      },
      "source": [
        "#**1. Data preparation**"
      ]
    },
    {
      "cell_type": "code",
      "metadata": {
        "id": "7dpzMMqn6jPg"
      },
      "source": [
        "# import libraries\n",
        "import pandas as pd\n",
        "import numpy as np\n",
        "from matplotlib import pyplot as plt\n",
        "%matplotlib inline\n",
        "from nltk.stem import PorterStemmer \n",
        "from nltk.tokenize import word_tokenize \n",
        "import seaborn as sns\n",
        "import pickle"
      ],
      "execution_count": null,
      "outputs": []
    },
    {
      "cell_type": "code",
      "metadata": {
        "id": "ag5jq1s86ljB"
      },
      "source": [
        "# load the data\n",
        "data = pd.read_csv('news_dataset.csv')"
      ],
      "execution_count": null,
      "outputs": []
    },
    {
      "cell_type": "code",
      "metadata": {
        "colab": {
          "base_uri": "https://localhost:8080/",
          "height": 203
        },
        "id": "xwOhZCpg6vX7",
        "outputId": "460653af-6724-4d44-927d-57d83c8f40d2"
      },
      "source": [
        "data.head()"
      ],
      "execution_count": null,
      "outputs": [
        {
          "output_type": "execute_result",
          "data": {
            "text/html": [
              "<div>\n",
              "<style scoped>\n",
              "    .dataframe tbody tr th:only-of-type {\n",
              "        vertical-align: middle;\n",
              "    }\n",
              "\n",
              "    .dataframe tbody tr th {\n",
              "        vertical-align: top;\n",
              "    }\n",
              "\n",
              "    .dataframe thead th {\n",
              "        text-align: right;\n",
              "    }\n",
              "</style>\n",
              "<table border=\"1\" class=\"dataframe\">\n",
              "  <thead>\n",
              "    <tr style=\"text-align: right;\">\n",
              "      <th></th>\n",
              "      <th>category</th>\n",
              "      <th>text</th>\n",
              "    </tr>\n",
              "  </thead>\n",
              "  <tbody>\n",
              "    <tr>\n",
              "      <th>0</th>\n",
              "      <td>HEALTH</td>\n",
              "      <td>When you feel like this, it’s important to kno...</td>\n",
              "    </tr>\n",
              "    <tr>\n",
              "      <th>1</th>\n",
              "      <td>HEALTH</td>\n",
              "      <td>I can vividly remember the first time I felt f...</td>\n",
              "    </tr>\n",
              "    <tr>\n",
              "      <th>2</th>\n",
              "      <td>HEALTH</td>\n",
              "      <td>Because it's only becoming more of a struggle....</td>\n",
              "    </tr>\n",
              "    <tr>\n",
              "      <th>3</th>\n",
              "      <td>HEALTH</td>\n",
              "      <td>\"The only Whole30 I want to participate in is ...</td>\n",
              "    </tr>\n",
              "    <tr>\n",
              "      <th>4</th>\n",
              "      <td>HEALTH</td>\n",
              "      <td>Essentially, your hands are kept warm thanks t...</td>\n",
              "    </tr>\n",
              "  </tbody>\n",
              "</table>\n",
              "</div>"
            ],
            "text/plain": [
              "  category                                               text\n",
              "0   HEALTH  When you feel like this, it’s important to kno...\n",
              "1   HEALTH  I can vividly remember the first time I felt f...\n",
              "2   HEALTH  Because it's only becoming more of a struggle....\n",
              "3   HEALTH  \"The only Whole30 I want to participate in is ...\n",
              "4   HEALTH  Essentially, your hands are kept warm thanks t..."
            ]
          },
          "metadata": {
            "tags": []
          },
          "execution_count": 4
        }
      ]
    },
    {
      "cell_type": "code",
      "metadata": {
        "id": "3Zf1Gpic6ygB"
      },
      "source": [
        "# categorize the data\n",
        "data['category_id'] = data['category'].factorize()[0]\n",
        "colslist = [ 'type', 'news', 'category_id']\n",
        "data.columns = colslist"
      ],
      "execution_count": null,
      "outputs": []
    },
    {
      "cell_type": "code",
      "metadata": {
        "colab": {
          "base_uri": "https://localhost:8080/",
          "height": 203
        },
        "id": "NUQ0jvXB68jj",
        "outputId": "a5e653c0-1178-452f-bcf5-4f53dd6dfa93"
      },
      "source": [
        "data.head()"
      ],
      "execution_count": null,
      "outputs": [
        {
          "output_type": "execute_result",
          "data": {
            "text/html": [
              "<div>\n",
              "<style scoped>\n",
              "    .dataframe tbody tr th:only-of-type {\n",
              "        vertical-align: middle;\n",
              "    }\n",
              "\n",
              "    .dataframe tbody tr th {\n",
              "        vertical-align: top;\n",
              "    }\n",
              "\n",
              "    .dataframe thead th {\n",
              "        text-align: right;\n",
              "    }\n",
              "</style>\n",
              "<table border=\"1\" class=\"dataframe\">\n",
              "  <thead>\n",
              "    <tr style=\"text-align: right;\">\n",
              "      <th></th>\n",
              "      <th>type</th>\n",
              "      <th>news</th>\n",
              "      <th>category_id</th>\n",
              "    </tr>\n",
              "  </thead>\n",
              "  <tbody>\n",
              "    <tr>\n",
              "      <th>0</th>\n",
              "      <td>HEALTH</td>\n",
              "      <td>When you feel like this, it’s important to kno...</td>\n",
              "      <td>0</td>\n",
              "    </tr>\n",
              "    <tr>\n",
              "      <th>1</th>\n",
              "      <td>HEALTH</td>\n",
              "      <td>I can vividly remember the first time I felt f...</td>\n",
              "      <td>0</td>\n",
              "    </tr>\n",
              "    <tr>\n",
              "      <th>2</th>\n",
              "      <td>HEALTH</td>\n",
              "      <td>Because it's only becoming more of a struggle....</td>\n",
              "      <td>0</td>\n",
              "    </tr>\n",
              "    <tr>\n",
              "      <th>3</th>\n",
              "      <td>HEALTH</td>\n",
              "      <td>\"The only Whole30 I want to participate in is ...</td>\n",
              "      <td>0</td>\n",
              "    </tr>\n",
              "    <tr>\n",
              "      <th>4</th>\n",
              "      <td>HEALTH</td>\n",
              "      <td>Essentially, your hands are kept warm thanks t...</td>\n",
              "      <td>0</td>\n",
              "    </tr>\n",
              "  </tbody>\n",
              "</table>\n",
              "</div>"
            ],
            "text/plain": [
              "     type                                               news  category_id\n",
              "0  HEALTH  When you feel like this, it’s important to kno...            0\n",
              "1  HEALTH  I can vividly remember the first time I felt f...            0\n",
              "2  HEALTH  Because it's only becoming more of a struggle....            0\n",
              "3  HEALTH  \"The only Whole30 I want to participate in is ...            0\n",
              "4  HEALTH  Essentially, your hands are kept warm thanks t...            0"
            ]
          },
          "metadata": {
            "tags": []
          },
          "execution_count": 7
        }
      ]
    },
    {
      "cell_type": "code",
      "metadata": {
        "id": "t3JPchFs7mDW"
      },
      "source": [
        "# load the stopwords\n",
        "text_file = open(\"stopwords.txt\", \"r\")\n",
        "stopwords = text_file.read().split('\\n')"
      ],
      "execution_count": null,
      "outputs": []
    },
    {
      "cell_type": "code",
      "metadata": {
        "id": "KagjeQZI7quu"
      },
      "source": [
        "# remove stop words\n",
        "data['news_without_stopwords'] = data['news'].apply(lambda x: ' '.join([word for word in x.split() if word not in (stopwords)]))\n",
        "print(len(data['news_without_stopwords'][0]))"
      ],
      "execution_count": null,
      "outputs": []
    },
    {
      "cell_type": "code",
      "metadata": {
        "id": "S9wqMQ1g8NL_"
      },
      "source": [
        "# stemming\n",
        "ps = PorterStemmer()\n",
        "data['news_porter_stemmed'] = data['news_without_stopwords'].apply(lambda x: ' '.join([ps.stem(word) for word in x.split()]))\n",
        "data['news_porter_stemmed'] = data['news_porter_stemmed'].apply(lambda x: ' '.join(x.lower() for x in x.split()))\n",
        "data['news_porter_stemmed'] = data['news_porter_stemmed'].str.replace('[^\\w\\s]','')"
      ],
      "execution_count": null,
      "outputs": []
    },
    {
      "cell_type": "code",
      "metadata": {
        "id": "Bc7vvsiU8YNB"
      },
      "source": [
        "freq = pd.Series(' '.join(data['news_porter_stemmed']).split()).value_counts()\n"
      ],
      "execution_count": null,
      "outputs": []
    },
    {
      "cell_type": "code",
      "metadata": {
        "id": "s7_gUuNb8aLK"
      },
      "source": [
        "freq2 = freq[freq <= 3]\n",
        "freq2"
      ],
      "execution_count": null,
      "outputs": []
    },
    {
      "cell_type": "code",
      "metadata": {
        "id": "ue-P6wWL8c-t"
      },
      "source": [
        "freq3 = list(freq2.index.values)\n",
        "freq3"
      ],
      "execution_count": null,
      "outputs": []
    },
    {
      "cell_type": "code",
      "metadata": {
        "id": "iNn519V_8fbG"
      },
      "source": [
        "# create new column\n",
        "data['news_porter_stemmed'] = data['news_porter_stemmed'].apply(lambda x: ' '.join([word for word in x.split() if word not in (freq3)]))\n",
        "data = data[['type', 'category_id', 'news_porter_stemmed']]"
      ],
      "execution_count": null,
      "outputs": []
    },
    {
      "cell_type": "code",
      "metadata": {
        "colab": {
          "base_uri": "https://localhost:8080/",
          "height": 203
        },
        "id": "xzbO05Inb8pW",
        "outputId": "765ddb1d-c835-41c1-f4fa-794f974b6e1f"
      },
      "source": [
        "data.head()"
      ],
      "execution_count": null,
      "outputs": [
        {
          "output_type": "execute_result",
          "data": {
            "text/html": [
              "<div>\n",
              "<style scoped>\n",
              "    .dataframe tbody tr th:only-of-type {\n",
              "        vertical-align: middle;\n",
              "    }\n",
              "\n",
              "    .dataframe tbody tr th {\n",
              "        vertical-align: top;\n",
              "    }\n",
              "\n",
              "    .dataframe thead th {\n",
              "        text-align: right;\n",
              "    }\n",
              "</style>\n",
              "<table border=\"1\" class=\"dataframe\">\n",
              "  <thead>\n",
              "    <tr style=\"text-align: right;\">\n",
              "      <th></th>\n",
              "      <th>type</th>\n",
              "      <th>category_id</th>\n",
              "      <th>news_porter_stemmed</th>\n",
              "    </tr>\n",
              "  </thead>\n",
              "  <tbody>\n",
              "    <tr>\n",
              "      <th>0</th>\n",
              "      <td>HEALTH</td>\n",
              "      <td>0</td>\n",
              "      <td>when feel this it your the peopl who say im ti...</td>\n",
              "    </tr>\n",
              "    <tr>\n",
              "      <th>1</th>\n",
              "      <td>HEALTH</td>\n",
              "      <td>0</td>\n",
              "      <td>i rememb time i fear frustrat food i 10 old i ...</td>\n",
              "    </tr>\n",
              "    <tr>\n",
              "      <th>2</th>\n",
              "      <td>HEALTH</td>\n",
              "      <td>0</td>\n",
              "      <td>becaus it becom to stay updat on the new witho...</td>\n",
              "    </tr>\n",
              "    <tr>\n",
              "      <th>3</th>\n",
              "      <td>HEALTH</td>\n",
              "      <td>0</td>\n",
              "      <td>the i particip eat 30 perfect tweet about that...</td>\n",
              "    </tr>\n",
              "    <tr>\n",
              "      <th>4</th>\n",
              "      <td>HEALTH</td>\n",
              "      <td>0</td>\n",
              "      <td>essentially hand kept warm thank body real rea...</td>\n",
              "    </tr>\n",
              "  </tbody>\n",
              "</table>\n",
              "</div>"
            ],
            "text/plain": [
              "     type  category_id                                news_porter_stemmed\n",
              "0  HEALTH            0  when feel this it your the peopl who say im ti...\n",
              "1  HEALTH            0  i rememb time i fear frustrat food i 10 old i ...\n",
              "2  HEALTH            0  becaus it becom to stay updat on the new witho...\n",
              "3  HEALTH            0  the i particip eat 30 perfect tweet about that...\n",
              "4  HEALTH            0  essentially hand kept warm thank body real rea..."
            ]
          },
          "metadata": {
            "tags": []
          },
          "execution_count": 22
        }
      ]
    },
    {
      "cell_type": "code",
      "metadata": {
        "id": "4kmw9_TQcYbN"
      },
      "source": [
        "# saved the preprocee data\n",
        "data.to_csv('preprocessed.csv',index=False)"
      ],
      "execution_count": null,
      "outputs": []
    },
    {
      "cell_type": "markdown",
      "metadata": {
        "id": "v9DWhxtaIwCh"
      },
      "source": [
        "#**2. Train and test the model**"
      ]
    },
    {
      "cell_type": "code",
      "metadata": {
        "id": "Ho4fctbe8l4f"
      },
      "source": [
        "# tfidf\n",
        "from sklearn.feature_extraction.text import TfidfVectorizer\n",
        "\n",
        "tfidf = TfidfVectorizer(sublinear_tf=True, min_df=5, norm='l2', encoding='latin-1', ngram_range=(1, 2))"
      ],
      "execution_count": null,
      "outputs": []
    },
    {
      "cell_type": "code",
      "metadata": {
        "colab": {
          "base_uri": "https://localhost:8080/"
        },
        "id": "SrRLmms18plJ",
        "outputId": "430ffa05-39ce-40b1-9f1d-a29638c8cf5e"
      },
      "source": [
        "features = tfidf.fit_transform(data_1.news_porter_stemmed.astype('U')).toarray()\n",
        "labels = data.category_id\n",
        "features.shape"
      ],
      "execution_count": null,
      "outputs": [
        {
          "output_type": "execute_result",
          "data": {
            "text/plain": [
              "(10981, 6835)"
            ]
          },
          "metadata": {
            "tags": []
          },
          "execution_count": 38
        }
      ]
    },
    {
      "cell_type": "code",
      "metadata": {
        "id": "D6CzIi_-8ri8"
      },
      "source": [
        "data.columns = ['newstype', 'category_id', 'news_porter_stemmed']"
      ],
      "execution_count": null,
      "outputs": []
    },
    {
      "cell_type": "code",
      "metadata": {
        "id": "gy1f7TXD8tvf"
      },
      "source": [
        "category_id_df = data[['newstype', 'category_id']].drop_duplicates().sort_values('category_id')\n",
        "category_to_id = dict(category_id_df.values)\n",
        "id_to_category = dict(category_id_df[['category_id', 'newstype']].values)"
      ],
      "execution_count": null,
      "outputs": []
    },
    {
      "cell_type": "code",
      "metadata": {
        "id": "eIOwrFzo8wCE"
      },
      "source": [
        "from sklearn.feature_selection import chi2\n",
        "\n",
        "N = 3\n",
        "for newstype, category_id in sorted(category_to_id.items()):\n",
        "    features_chi2 = chi2(features, labels == category_id)\n",
        "    indices = np.argsort(features_chi2[0])\n",
        "    feature_names = np.array(tfidf.get_feature_names())[indices]\n",
        "    unigrams = [v for v in feature_names if len(v.split(' ')) == 1]\n",
        "    bigrams = [v for v in feature_names if len(v.split(' ')) == 2]\n",
        "    print(\"# '{}':\".format(newstype))\n",
        "    print(\"  . Most correlated unigrams:\\n       . {}\".format('\\n       . '.join(unigrams[-N:])))\n",
        "    print(\"  . Most correlated bigrams:\\n       . {}\".format('\\n       . '.join(bigrams[-N:])))"
      ],
      "execution_count": null,
      "outputs": []
    },
    {
      "cell_type": "code",
      "metadata": {
        "id": "zwHsDGDi8z6C"
      },
      "source": [
        "from sklearn.manifold import TSNE\n",
        "\n",
        "# Sampling a subset of our dataset because t-SNE is computationally expensive\n",
        "SAMPLE_SIZE = int(len(features) * 0.3)\n",
        "np.random.seed(0)\n",
        "indices = np.random.choice(range(len(features)), size=SAMPLE_SIZE, replace=False)\n",
        "projected_features = TSNE(n_components=2, random_state=0).fit_transform(features[indices])\n",
        "colors = ['pink', 'green', 'midnightblue', 'orange', 'darkgrey']"
      ],
      "execution_count": null,
      "outputs": []
    },
    {
      "cell_type": "code",
      "metadata": {
        "id": "4Wjk4zub9Dss"
      },
      "source": [
        "for category, category_id in sorted(category_to_id.items()):\n",
        "    points = projected_features[(labels[indices] == category_id).values]\n",
        "    plt.scatter(points[:, 0], points[:, 1], s=30, c=colors[category_id], label=category)\n",
        "plt.title(\"tf-idf feature vector for each article, projected on 2 dimensions.\",\n",
        "          fontdict=dict(fontsize=15))\n",
        "plt.legend()"
      ],
      "execution_count": null,
      "outputs": []
    },
    {
      "cell_type": "code",
      "metadata": {
        "id": "yIsib4Th9GMx"
      },
      "source": [
        "from sklearn.linear_model import LogisticRegression\n",
        "from sklearn.ensemble import RandomForestClassifier\n",
        "from sklearn.naive_bayes import MultinomialNB\n",
        "\n",
        "from sklearn.model_selection import cross_val_score\n",
        "\n",
        "\n",
        "models = [\n",
        "    RandomForestClassifier(n_estimators=200, max_depth=3, random_state=0),\n",
        "    MultinomialNB(),\n",
        "    LogisticRegression(random_state=0),\n",
        "]\n",
        "CV = 5\n",
        "cv_df = pd.DataFrame(index=range(CV * len(models)))\n",
        "entries = []\n",
        "for model in models:\n",
        "    model_name = model.__class__.__name__\n",
        "    accuracies = cross_val_score(model, features, labels, scoring='accuracy', cv=CV)\n",
        "    for fold_idx, accuracy in enumerate(accuracies):\n",
        "        entries.append((model_name, fold_idx, accuracy))\n",
        "cv_df = pd.DataFrame(entries, columns=['model_name', 'fold_idx', 'accuracy'])"
      ],
      "execution_count": null,
      "outputs": []
    },
    {
      "cell_type": "code",
      "metadata": {
        "id": "bFqV7ScY9Jx8"
      },
      "source": [
        "# train the model with logistic regression\n",
        "from sklearn.model_selection import train_test_split\n",
        "\n",
        "model = LogisticRegression(random_state=0)\n",
        "\n",
        "X_train, X_test, y_train, y_test, indices_train, indices_test = train_test_split(features, labels, data.index, test_size=0.33, random_state=0)\n",
        "model.fit(X_train, y_train)\n",
        "y_pred_proba = model.predict_proba(X_test)\n",
        "y_pred = model.predict(X_test)"
      ],
      "execution_count": null,
      "outputs": []
    },
    {
      "cell_type": "code",
      "metadata": {
        "id": "8rsBW2ly9cc5"
      },
      "source": [
        "# visualize\n",
        "from sklearn.metrics import confusion_matrix\n",
        "import seaborn as sns\n",
        "\n",
        "conf_mat = confusion_matrix(y_test, y_pred)\n",
        "sns.heatmap(conf_mat, annot=True, fmt='d',\n",
        "            xticklabels=category_id_df.newstype.values, yticklabels=category_id_df.newstype.values)\n",
        "plt.ylabel('Actual')\n",
        "plt.xlabel('Predicted')"
      ],
      "execution_count": null,
      "outputs": []
    },
    {
      "cell_type": "code",
      "metadata": {
        "id": "j8vnz_pk9eZw"
      },
      "source": [
        "# fit the model\n",
        "model.fit(features, labels)"
      ],
      "execution_count": null,
      "outputs": []
    },
    {
      "cell_type": "code",
      "metadata": {
        "id": "9NsTtH-a9gXk"
      },
      "source": [
        "\n",
        "from sklearn.feature_selection import chi2\n",
        "\n",
        "N = 5\n",
        "for newstype, category_id in sorted(category_to_id.items()):\n",
        "    indices = np.argsort(model.coef_[category_id])\n",
        "    feature_names = np.array(tfidf.get_feature_names())[indices]\n",
        "    unigrams = [v for v in reversed(feature_names) if len(v.split(' ')) == 1][:N]\n",
        "    bigrams = [v for v in reversed(feature_names) if len(v.split(' ')) == 2][:N]\n",
        "    print(\"# '{}':\".format(newstype))\n",
        "    print(\"  . Top unigrams:\\n       . {}\".format('\\n       . '.join(unigrams)))\n",
        "    print(\"  . Top bigrams:\\n       . {}\".format('\\n       . '.join(bigrams)))"
      ],
      "execution_count": null,
      "outputs": []
    },
    {
      "cell_type": "code",
      "metadata": {
        "id": "aonyMro0AZSQ"
      },
      "source": [
        "# save the model\n",
        "Pkl_Filename = \"model.pkl\"  \n",
        "\n",
        "with open(Pkl_Filename, 'wb') as file:  \n",
        "    pickle.dump(model, file)"
      ],
      "execution_count": null,
      "outputs": []
    },
    {
      "cell_type": "code",
      "metadata": {
        "id": "A6QqswsD9lTl"
      },
      "source": [
        "# load the model\n",
        "with open(Pkl_Filename, 'rb') as file:  \n",
        "    loaded_model = pickle.load(file)"
      ],
      "execution_count": null,
      "outputs": []
    },
    {
      "cell_type": "code",
      "metadata": {
        "id": "cd9hn2sYAk5a"
      },
      "source": [
        "# some texts to check\n",
        "texts = [\n",
        "         \"Captain Tsubasa scores a magnificent goal for the Japanese team.\",\n",
        "         \"Merryweather mercenaries are sent on another mission, as government oversight groups call for new sanctions.\",\n",
        "         \"Ronaldo cured from the cancer disease\",\n",
        "         \"You won't guess what the latest trend in data analysis is!\",\n",
        "         \"another centuray for vetneran batsman AB de villier\",\n",
        "         \"will elon musk the first person to land on the mars\",]\n",
        "text_features = tfidf.transform(texts)\n",
        "predictions = loaded_model.predict(text_features)\n",
        "for text, predicted in zip(texts, predictions):\n",
        "    print('\"{}\"'.format(text))\n",
        "    print(\"  - Predicted as: '{}'\".format(id_to_category[predicted]))\n",
        "    print(\"\")"
      ],
      "execution_count": null,
      "outputs": []
    },
    {
      "cell_type": "code",
      "metadata": {
        "id": "TQpXdy-cApn8"
      },
      "source": [
        ""
      ],
      "execution_count": null,
      "outputs": []
    }
  ]
}